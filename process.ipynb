{
 "cells": [
  {
   "cell_type": "code",
   "execution_count": 15,
   "metadata": {},
   "outputs": [
    {
     "name": "stdout",
     "output_type": "stream",
     "text": [
      "['Rgs20' 0 0 ... 0 0 0]\n",
      "[0 0 0 ... 0 0 0]\n"
     ]
    },
    {
     "data": {
      "image/png": "[encoded data removed]",
      "text/plain": [
       "<Figure size 432x288 with 1 Axes>"
      ]
     },
     "metadata": {
      "needs_background": "light"
     },
     "output_type": "display_data"
    }
   ],
   "source": [
    "import pandas as pd\n",
    "import numpy as np\n",
    "from matplotlib import pyplot as plt\n",
    "df = pd.read_csv(\"counts.csv\")\n",
    "a = df.loc[4].to_numpy()\n",
    "print(a)\n",
    "a = a[1:]\n",
    "print(a)\n",
    "a = a[a != 0]\n",
    "plt.hist(a)\n",
    "plt.xlabel('number of appearances')\n",
    "plt.ylabel('count')\n",
    "plt.title(\"Distributition of RGS20\")\n",
    "plt.savefig(\"distribplot/RGS20.png\")\n",
    "plt.show()\n",
    "\n",
    "\n",
    "\n",
    "\n",
    "\n"
   ]
  }
 ],
 "metadata": {
  "kernelspec": {
   "display_name": "Python 3",
   "language": "python",
   "name": "python3"
  },
  "language_info": {
   "codemirror_mode": {
    "name": "ipython",
    "version": 3
   },
   "file_extension": ".py",
   "mimetype": "text/x-python",
   "name": "python",
   "nbconvert_exporter": "python",
   "pygments_lexer": "ipython3",
   "version": "3.9.10"
  },
  "orig_nbformat": 4,
  "vscode": {
   "interpreter": {
    "hash": "c2a0970e96ade22c76d8e09cffbe900f2ccaf7b07135fc1041396248e42f2de2"
   }
  }
 },
 "nbformat": 4,
 "nbformat_minor": 2
}
